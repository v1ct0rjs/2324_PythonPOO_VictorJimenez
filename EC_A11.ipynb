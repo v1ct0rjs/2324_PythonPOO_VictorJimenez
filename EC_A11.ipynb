{
 "cells": [
  {
   "cell_type": "markdown",
   "metadata": {},
   "source": [
    "# UT1. Ejercicios A1. POO en Python: Clases y objetos\n",
    "\n",
    "Realizar los siguientes ejercicios en Python, cada uno en su propia celda.\n",
    "No es necesario crear 2 celdas para un ejercio, cada ejercicio se resuelve en una celda."
   ]
  },
  {
   "cell_type": "markdown",
   "metadata": {},
   "source": [
    "### Ejercicio 1\n",
    "\n",
    "Escribe un programa en Python que cree una clase Vehiculo con los atributos maximaVelocidad y kilometros. Los atributos deben estar dentro del constructor.\n",
    "Crear una instancia de la clase Vehiculo e imprimir el valor de sus atributos."
   ]
  },
  {
   "cell_type": "code",
   "execution_count": 3,
   "metadata": {},
   "outputs": [
    {
     "name": "stdout",
     "output_type": "stream",
     "text": [
      "220 Km/h 6000 Km\n"
     ]
    }
   ],
   "source": [
    "class vehiculo:\n",
    "    def __init__(self,maximaVelocidad,kilometros):\n",
    "        self.maximaVelocidad = maximaVelocidad\n",
    "        self.kilometros = kilometros\n",
    "\n",
    "mazda = vehiculo(\"220\", 6000)\n",
    "print(mazda.maximaVelocidad,\"Km/h\", mazda.kilometros, \"Km\")"
   ]
  },
  {
   "cell_type": "markdown",
   "metadata": {},
   "source": [
    "### Ejercicio 2\n",
    "\n",
    "Dentro del mismo programa, crear una clase Vehiculo2 sin ninguna variable ni atributo (una clase vacía)."
   ]
  },
  {
   "cell_type": "code",
   "execution_count": 28,
   "metadata": {},
   "outputs": [
    {
     "name": "stdout",
     "output_type": "stream",
     "text": [
      "Velocidad Maxima  320 Kilometros  5000\n"
     ]
    }
   ],
   "source": [
    "class vehiculo:\n",
    "    def __init__(self,maximaVelocidad,kilometros):\n",
    "        self.maximaVelocidad = maximaVelocidad\n",
    "        self.kilometros = kilometros\n",
    "\n",
    "    def coche(self):\n",
    "        print(\"Velocidad Maxima \", self.maximaVelocidad, \"Kilometros \", self.kilometros)\n",
    "mazda = vehiculo(320, 5000)\n",
    "mazda.coche()\n",
    "\n",
    "class vehiculo2:\n",
    "    pass"
   ]
  },
  {
   "cell_type": "markdown",
   "metadata": {},
   "source": [
    "### Ejercicio 3\n",
    "\n",
    "Escribe un programa que trabaje con una clase Alumno, que tenga los atributos de \n",
    "- num. expediente\n",
    "- nombre\n",
    "- apellidos\n",
    "- fecha de Nacimiento\n",
    "- curso en el que se matricula. \n",
    "  \n",
    "La clase debe incluir un constructor.\n",
    "Instancia varios objetos de esta clase y prueba los atributos creados."
   ]
  },
  {
   "cell_type": "code",
   "execution_count": 6,
   "metadata": {},
   "outputs": [
    {
     "name": "stdout",
     "output_type": "stream",
     "text": [
      "0001 Pepe Lopez 20/3/1999 ASIR1\n",
      "0002 Pedro Palotes 12/6/2001 CEPython\n"
     ]
    }
   ],
   "source": [
    "class alumno:\n",
    "    def __init__(self, numExpediente, nombre, apellidos, fechaNacimiento, curso):\n",
    "        self.numExpediente = numExpediente\n",
    "        self.nombre = nombre\n",
    "        self.apellidos = apellidos\n",
    "        self.fechaNaciemiento = fechaNacimiento\n",
    "        self.curso = curso\n",
    "\n",
    "\n",
    "pepeLopez = alumno(\"0001\", \"Pepe\", \"Lopez\",\"20/3/1999\", \"ASIR1\")\n",
    "print(pepeLopez.numExpediente, pepeLopez.nombre, pepeLopez.apellidos, pepeLopez.fechaNaciemiento, pepeLopez.curso)\n",
    "\n",
    "pericoPalotes = alumno(\"0002\", \"Pedro\", \"Palotes\", \"12/6/2001\", \"CEPython\")\n",
    "print(pericoPalotes.numExpediente, pericoPalotes.nombre, pericoPalotes.apellidos, pericoPalotes.fechaNaciemiento, pericoPalotes.curso)"
   ]
  },
  {
   "cell_type": "markdown",
   "metadata": {},
   "source": [
    "### Ejercicio 4\n",
    "\n",
    "Escribe un programa que trabaje con una clase Empleado con las características que se indican a continuación y prueba sus métodos/atributos.\n",
    "\n",
    "**Atributos:**\n",
    "- id\n",
    "- nombre\n",
    "- apellidos\n",
    "- salario\n",
    "\n",
    "**Métodos:**\n",
    "- Constructor: (incluye los parámetros que creas necesarios).\n",
    "- NombreCompleto: Devuelve el nombre completo del empleado con la forma: Apellidos, Nombre.\n",
    "- SalarioAnual: Devuelve el salario anual en 12 pagas.\n",
    "- IncrementoSalario(portcentaje): Incrementa el salario del empleado en la cantidad que se indica en el parámetro porcentual."
   ]
  },
  {
   "cell_type": "code",
   "execution_count": 24,
   "metadata": {},
   "outputs": [
    {
     "name": "stdout",
     "output_type": "stream",
     "text": [
      "Nombre  Pedro Ramírez\n",
      "ID 0003\n",
      "Salario 1320.0\n",
      "Salario Anual 15840.0\n",
      "Incremento Salarial 1320.0\n",
      "\n",
      "Juán López\n",
      "0061\n",
      "1000\n",
      "12000\n"
     ]
    }
   ],
   "source": [
    "class empleado:\n",
    "    def __init__(self, id, nombre, apellidos, salario):\n",
    "        self.id = id\n",
    "        self.nombre = nombre\n",
    "        self.apellidos = apellidos\n",
    "        self.salario = salario\n",
    "        \n",
    "    \n",
    "    @property\n",
    "    def NombreCompleto(self):\n",
    "        return f\"{self.nombre} {self.apellidos}\"\n",
    "\n",
    "    @property\n",
    "    def SalarioAnual(self):\n",
    "        return self.salario * 12\n",
    "\n",
    "    @property\n",
    "    def IncrementoSalario(self):\n",
    "        return self.salario\n",
    "        \n",
    "    @IncrementoSalario.setter\n",
    "    def IncrementoSalario(self, porcentaje):\n",
    "        self.salario = self.salario + (self.salario * porcentaje)\n",
    "    \n",
    "Pedro = empleado('0003', 'Pedro', 'Ramírez', 1200)\n",
    "Pedro.IncrementoSalario = 0.1\n",
    "print(\"Nombre \", Pedro.NombreCompleto)\n",
    "print(\"ID\", Pedro.id)\n",
    "print(\"Salario\", Pedro.salario)\n",
    "print(\"Salario Anual\", Pedro.SalarioAnual)\n",
    "print(\"Incremento Salarial\", Pedro.IncrementoSalario)    \n",
    "print()\n",
    "Juan = empleado('0061', 'Juán', 'López', 1000)\n",
    "\n",
    "print(Juan.NombreCompleto)\n",
    "print(Juan.id)\n",
    "print(Juan.salario)\n",
    "print(Juan.SalarioAnual)"
   ]
  },
  {
   "cell_type": "markdown",
   "metadata": {},
   "source": [
    "### Ejercicio 5\n",
    "\n",
    "Escribe un programa en el que copies la clase Alumno del ejercicio-1 y modificar añadiendo un atributo (no de instancia) que almacene el número de objetos de esta clase que se instancian.\n",
    "\n",
    "El atributo debe ser privado. \n",
    "Crea un método público que permita obtener solamente el valor de este atributo."
   ]
  },
  {
   "cell_type": "code",
   "execution_count": 1,
   "metadata": {},
   "outputs": [
    {
     "name": "stdout",
     "output_type": "stream",
     "text": [
      "0001 Pepe Lopez 20/3/1999 ASIR1\n",
      "0002 Pedro Palotes 12/6/2001 CEPython\n",
      "3\n"
     ]
    }
   ],
   "source": [
    "class Alumno:\n",
    "    _contador = 0\n",
    "\n",
    "    def __init__(self, numExpediente, nombre, apellidos, fechaNacimiento, curso):\n",
    "        self.numExpediente = numExpediente\n",
    "        self.nombre = nombre\n",
    "        self.apellidos = apellidos\n",
    "        self.fechaNaciemiento = fechaNacimiento\n",
    "        self.curso = curso\n",
    "        Alumno._contador += 1\n",
    "\n",
    "    \n",
    "    @classmethod\n",
    "    def ObtenerContador(cls):\n",
    "        return cls._contador\n",
    "\n",
    "\n",
    "pepeLopez = Alumno(\"0001\", \"Pepe\", \"Lopez\",\"20/3/1999\", \"ASIR1\")\n",
    "print(pepeLopez.numExpediente, pepeLopez.nombre, pepeLopez.apellidos, pepeLopez.fechaNaciemiento, pepeLopez.curso)\n",
    "\n",
    "pericoPalotes = Alumno(\"0002\", \"Pedro\", \"Palotes\", \"12/6/2001\", \"CEPython\")\n",
    "print(pericoPalotes.numExpediente, pericoPalotes.nombre, pericoPalotes.apellidos, pericoPalotes.fechaNaciemiento, pericoPalotes.curso)\n",
    "\n",
    "antonio = Alumno(\"0001\", \"Antonio\", \"Sanchez\",\"16/3/1995\", \"ASIR1\")\n",
    "\n",
    "print(Alumno.ObtenerContador())"
   ]
  },
  {
   "cell_type": "markdown",
   "metadata": {},
   "source": [
    "### Ejercicio 6\n",
    "\n",
    "Escribe un programa que guarde información sobre los taxis de una compañia. De cada taxi se debe guardar:\n",
    "- Matricula\n",
    "- distrito en el que opera\n",
    "- tipo motor (diesel o gasolina)\n",
    "- coordenadas (latitud y longitud), en las que se ubica.\n",
    "\n",
    ">💡Python no soporta sobrecarga de métodos, por lo que no podemos tener varios constructores con el mismo nombre.\n",
    "\n",
    "Crea la clase necesaria y añade un constructor y consigue, el mismo efecto que la sobrecarga de métodos, que si se crearan 2 constructores con el mismo nombre, uno con todos los atributos y otro sin las coordenadas (poner a cero).\n",
    " \n",
    "1. Diseña un método que sirva para comprobar si 2 taxis operan en el mismo distrito, devolviendo true o false.\n",
    "1. Añade un nuevo método que devuelva una cadena con las coordenadas en conjunto (latitud, longitud)."
   ]
  },
  {
   "cell_type": "code",
   "execution_count": 6,
   "metadata": {},
   "outputs": [
    {
     "name": "stdout",
     "output_type": "stream",
     "text": [
      "Coordenadas Taxi1: (26.124, -3.685)\n",
      "Coordenadas Taxi2: (0, 0)\n",
      "Coordenadas Taxi3: (23.27, 1.35)\n",
      "¿Están en el mismo distrito Taxi3 y Taxi2? True\n"
     ]
    }
   ],
   "source": [
    "class CompaniaTaxi:\n",
    "    def __init__(self, matricula, distrito, tipo_motor, latitud, longitud):\n",
    "        self.matricula = matricula\n",
    "        self.distrito = distrito\n",
    "        self.tipo_motor = tipo_motor\n",
    "        self.latitud = latitud\n",
    "        self.longitud = longitud\n",
    "\n",
    "    def enDistrito(self, taxi_a_comparar):\n",
    "        return self.distrito == taxi_a_comparar.distrito\n",
    "\n",
    "    def coordenadas(self):\n",
    "        return f\"({self.latitud}, {self.longitud})\"\n",
    "\n",
    "taxi1 = CompaniaTaxi(\"7854SRE\", \"Sur\", \"Diesel\", 26.124, -3.685)\n",
    "taxi2 = CompaniaTaxi(\"7854FLO\", \"Oeste\", \"Diesel\", 0, 0)\n",
    "taxi3 = CompaniaTaxi(\"6952DNR\", \"Oeste\", \"Gasolina\", 23.27, 1.35)\n",
    "\n",
    "print(\"Coordenadas Taxi1:\", taxi1.coordenadas())\n",
    "print(\"Coordenadas Taxi2:\", taxi2.coordenadas())\n",
    "print(\"Coordenadas Taxi3:\", taxi3.coordenadas())\n",
    "print(\"¿Están en el mismo distrito Taxi3 y Taxi2?\", taxi3.enDistrito(taxi2))\n",
    "\n"
   ]
  }
 ],
 "metadata": {
  "kernelspec": {
   "display_name": "base",
   "language": "python",
   "name": "python3"
  },
  "language_info": {
   "codemirror_mode": {
    "name": "ipython",
    "version": 3
   },
   "file_extension": ".py",
   "mimetype": "text/x-python",
   "name": "python",
   "nbconvert_exporter": "python",
   "pygments_lexer": "ipython3",
   "version": "3.11.5"
  }
 },
 "nbformat": 4,
 "nbformat_minor": 2
}
