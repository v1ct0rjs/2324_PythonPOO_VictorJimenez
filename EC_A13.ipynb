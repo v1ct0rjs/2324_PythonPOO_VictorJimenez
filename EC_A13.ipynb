{
 "cells": [
  {
   "cell_type": "markdown",
   "metadata": {},
   "source": [
    "# UT1. Ejercicios A3. POO en Python: Clases y objetos\n",
    "\n",
    "Realizar los siguientes ejercicios en Python, cada uno en su propia celda.\n",
    "No es necesario crear 2 celdas para un ejercio, cada ejercicio se resuelve en una celda."
   ]
  },
  {
   "cell_type": "markdown",
   "metadata": {},
   "source": [
    "#### Ejercicio 1\n",
    "\n",
    "Has sido asignado para crear un conjunto de clases para modelar diferentes tipos de vehiculos.<br>\n",
    "- Crear una clase base `Vehicle`, con los atributos `model` y `year`.\n",
    "- Crear una clase `Car` y `Motorcycle` que herede de `Vehicle`.\n",
    "- Cada clase tendrá sus propios atributos y métodos.\n",
    "  - `Car`\n",
    "    - tendrá `num_wheels`, `num_doors`.\n",
    "    - tendrá un método car_info() que imprima todos los atributos.\n",
    "  - `Motorcycle`\n",
    "    - tendrá `num_wheels`, `num_doors`\n",
    "    - tendra un método motorcycle_info() que imprima todos los atributos.\n",
    "\n",
    "\n",
    "Reglas:\n",
    "- Usa la sintaxis super() para llamar a los métodos de la clase padre.\n",
    "\n",
    "Prueba tu código:\n",
    "1. Crea un objeto `Car` con los datos que quieras.\n",
    "2. Crea un objeto `Motorcycle` con los datos que quiera.\n",
    "3. Imprime la información a través de los métodos `car_info()` y `motorcycle_info()`.\n",
    "\n"
   ]
  },
  {
   "cell_type": "code",
   "execution_count": 5,
   "metadata": {},
   "outputs": [
    {
     "name": "stdout",
     "output_type": "stream",
     "text": [
      "Modelo AMG, Año 2022, Ruedas 4, Puertas 5\n",
      "Modelo R3, Año 2021, Ruedas 2, Puertas 0\n"
     ]
    }
   ],
   "source": [
    "class Vehicle:\n",
    "    def __init__(self, model, year):\n",
    "        self.model = model\n",
    "        self.year = year\n",
    "\n",
    "class Car(Vehicle):\n",
    "    def __init__(self, model, year, num_wheels, num_doors):\n",
    "        super().__init__(model, year)\n",
    "        self.num_wheels = num_wheels\n",
    "        self.num_doors = num_doors\n",
    "\n",
    "    def car_info(self):\n",
    "        print(f\"Modelo {self.model}, Año {self.year}, Ruedas {self.num_wheels}, Puertas {self.num_doors}\")\n",
    "\n",
    "class Motorcycle(Vehicle):\n",
    "    def __init__(self, model, year, num_wheels, num_doors):\n",
    "        super().__init__(model, year)\n",
    "        self.num_wheels = num_wheels\n",
    "        self.num_doors = num_doors\n",
    "        \n",
    "    def motorcycle_info(self):\n",
    "        print(f\"Modelo {self.model}, Año {self.year}, Ruedas {self.num_wheels}, Puertas {self.num_doors}\")\n",
    "\n",
    "mercedes = Car(\"AMG\", 2022, 4, 5)\n",
    "mercedes.car_info()\n",
    "\n",
    "yamaha = Motorcycle(\"R3\", 2021, 2, 0)\n",
    "yamaha.motorcycle_info()"
   ]
  },
  {
   "cell_type": "markdown",
   "metadata": {},
   "source": [
    "#### Ejercicio 2\n",
    "\n",
    "Basado en el ejercicio anterior:\n",
    "\n",
    "- Convierte todos los atributos de las clases en atributos privados, tanto de la clase base como de la clases hijas.\n",
    "- Crear los métodos `getters` y `setters` para los atributos de la clase base y de las clases derivadas.\n",
    "- Comprueba que todo funciona correctamente, y que este cambio no ha afectado a la funcionalidad de tu código."
   ]
  },
  {
   "cell_type": "code",
   "execution_count": 7,
   "metadata": {},
   "outputs": [
    {
     "name": "stdout",
     "output_type": "stream",
     "text": [
      "Modelo AMG, Año 2022, Ruedas 4, Puertas 5\n",
      "Modelo R3, Año 2021, Ruedas 2, Puertas 0\n"
     ]
    }
   ],
   "source": [
    "class Vehicle:\n",
    "    def __init__(self, model, year):\n",
    "        self._model = model\n",
    "        self._year = year\n",
    "\n",
    "class Car(Vehicle):\n",
    "    def __init__(self, model, year, num_wheels, num_doors):\n",
    "        super().__init__(model, year)\n",
    "        self._num_wheels = num_wheels\n",
    "        self._num_doors = num_doors\n",
    "\n",
    "    def get_car_info(self):\n",
    "        print(f\"Modelo {self._model}, Año {self._year}, Ruedas {self._num_wheels}, Puertas {self._num_doors}\")\n",
    "\n",
    "class Motorcycle(Vehicle):\n",
    "    def __init__(self, model, year, num_wheels, num_doors):\n",
    "        super().__init__(model, year)\n",
    "        self._num_wheels = num_wheels\n",
    "        self._num_doors = num_doors\n",
    "        \n",
    "    def get_motorcycle_info(self):\n",
    "        print(f\"Modelo {self._model}, Año {self._year}, Ruedas {self._num_wheels}, Puertas {self._num_doors}\")\n",
    "\n",
    "mercedes = Car(\"AMG\", 2022, 4, 5)\n",
    "mercedes.get_car_info()\n",
    "\n",
    "yamaha = Motorcycle(\"R3\", 2021, 2, 0)\n",
    "yamaha.get_motorcycle_info()\n"
   ]
  },
  {
   "cell_type": "markdown",
   "metadata": {},
   "source": [
    "#### Ejercicio 3\n",
    "\n",
    "Has sido asignado para crear un conjunto de clases para modelar diferentes tipos de vehiculos.<br>\n",
    "- Crear una clase base `Vehicle`, con los atributos `model`,`year`, `num_wheels`, `num_doors`.\n",
    "  - Definir propiedades getter y setter para los atributos `model` y `year`.\n",
    "  - Definir un método `info()` que imprima todos los atributos.\n",
    "\n",
    "\n",
    "- Crear una clase `Car` y `Motorcycle` que herede de `Vehicle`.\n",
    "\n",
    "\n",
    "Validaciones:\n",
    "- Un `Car` debe tener 4 ruedas siempre (no se puede asignar) y como mínimo 2 puertas y como máximo 5.\n",
    "- Un `Motorcycle` debe tener 2 ruedas siempre (no se puede asignar) y para puertas debe devolver 0 y no se debe poder asignar.\n",
    "\n",
    "\n",
    "Instancia un objeto de cada clase, y comprueba que funcionan las validaicones aplicadas."
   ]
  },
  {
   "cell_type": "code",
   "execution_count": 3,
   "metadata": {},
   "outputs": [
    {
     "name": "stdout",
     "output_type": "stream",
     "text": [
      "Modelo 911 GT3, Año 2019, Ruedas 4, Puertas 3\n",
      "Número de puertas: 3\n",
      "Nuevas puertas: 4\n",
      "El número máximo de puertas es 5 y el mínimo es 2\n",
      "Modelo R3, Año 2021, Ruedas 2, Puertas 0\n"
     ]
    }
   ],
   "source": [
    "class Vehicle:\n",
    "    def __init__(self, model, year, num_wheels, num_doors):\n",
    "        self._model = model\n",
    "        self._year = year\n",
    "        self._num_wheels = num_wheels\n",
    "        self._num_doors = num_doors\n",
    "    \n",
    "    def get_modelo(self):\n",
    "        return self._model\n",
    "    \n",
    "    def get_año(self):\n",
    "        return self._year\n",
    "    \n",
    "    def info(self):\n",
    "        print(f\"Modelo {self._model}, Año {self._year}, Ruedas {self._num_wheels}, Puertas {self._num_doors}\")\n",
    "\n",
    "class Car(Vehicle):\n",
    "    def __init__(self, model, year, num_doors):\n",
    "        super().__init__(model, year, 4, num_doors)\n",
    "\n",
    "    def get_cambiarPuertas(self):\n",
    "        return self._num_doors\n",
    "    \n",
    "    def set_cambiarPuertas(self, puertas):\n",
    "        if 2 <= puertas <= 5:\n",
    "            self._num_doors = puertas\n",
    "            return self._num_doors\n",
    "        else:\n",
    "            return \"El número máximo de puertas es 5 y el mínimo es 2\"\n",
    "\n",
    "class Motorcycle(Vehicle):\n",
    "    def __init__(self, model, year):\n",
    "        super().__init__(model, year, 2, 0)\n",
    "\n",
    "porsche = Car(\"911 GT3\", 2019, 3)\n",
    "yamaha = Motorcycle(\"R3\", 2021)\n",
    "\n",
    "porsche.info()\n",
    "print(f\"Número de puertas: {porsche.get_cambiarPuertas()}\")\n",
    "porsche.set_cambiarPuertas(4)\n",
    "print(f\"Nuevas puertas: {porsche.get_cambiarPuertas()}\")\n",
    "\n",
    "print(porsche.set_cambiarPuertas(26))\n",
    "\n",
    "yamaha.info()\n",
    "\n",
    "\n",
    "\n"
   ]
  },
  {
   "cell_type": "markdown",
   "metadata": {},
   "source": [
    "#### Ejercicio 4\n",
    "\n",
    "Basado en el ejercicio anterior, añade el método `__str__` a la clase base `Vehicle` para que imprima la información del objeto.<br>\n",
    "El método `info()` debe llamar al método `__str__` para imprimir la información."
   ]
  },
  {
   "cell_type": "code",
   "execution_count": 6,
   "metadata": {},
   "outputs": [
    {
     "name": "stdout",
     "output_type": "stream",
     "text": [
      "Modelo 911 GT3, Año 2019, Ruedas 4, Puertas 3\n",
      "Número de puertas: 3\n",
      "Nuevas puertas: 4\n",
      "El número máximo de puertas es 5 y el mínimo es 2\n",
      "Modelo R3, Año 2021, Ruedas 2, Puertas 0\n"
     ]
    }
   ],
   "source": [
    "class Vehicle:\n",
    "    def __init__(self, model, year, num_wheels, num_doors):\n",
    "        self._model = model\n",
    "        self._year = year\n",
    "        self._num_wheels = num_wheels\n",
    "        self._num_doors = num_doors\n",
    "    \n",
    "    def get_modelo(self):\n",
    "        return self._model\n",
    "    \n",
    "    def get_año(self):\n",
    "        return self._year\n",
    "    \n",
    "    def __str__(self):\n",
    "        return f\"Modelo {self._model}, Año {self._year}, Ruedas {self._num_wheels}, Puertas {self._num_doors}\"\n",
    "\n",
    "    def info(self):\n",
    "        print(self)\n",
    "        \n",
    "class Car(Vehicle):\n",
    "    def __init__(self, model, year, num_doors):\n",
    "        super().__init__(model, year, 4, num_doors)\n",
    "\n",
    "    def get_cambiarPuertas(self):\n",
    "        return self._num_doors\n",
    "    \n",
    "    def set_cambiarPuertas(self, puertas):\n",
    "        if 2 <= puertas <= 5:\n",
    "            self._num_doors = puertas\n",
    "            return self._num_doors\n",
    "        else:\n",
    "            return \"El número máximo de puertas es 5 y el mínimo es 2\"\n",
    "\n",
    "class Motorcycle(Vehicle):\n",
    "    def __init__(self, model, year):\n",
    "        super().__init__(model, year, 2, 0)\n",
    "\n",
    "porsche = Car(\"911 GT3\", 2019, 3)\n",
    "yamaha = Motorcycle(\"R3\", 2021)\n",
    "\n",
    "porsche.info()\n",
    "print(f\"Número de puertas: {porsche.get_cambiarPuertas()}\")\n",
    "porsche.set_cambiarPuertas(4)\n",
    "print(f\"Nuevas puertas: {porsche.get_cambiarPuertas()}\")\n",
    "\n",
    "print(porsche.set_cambiarPuertas(26))\n",
    "\n",
    "yamaha.info()\n",
    "\n"
   ]
  },
  {
   "cell_type": "markdown",
   "metadata": {},
   "source": [
    "#### Ejercicio 5\n",
    "\n",
    "Define una clase `Animal` y se quiere conocer de cada animal su especie, y el sonido que emite.<br>\n",
    "- La clase Animal no se podrá instanciar, es una clase abstracta.\n",
    "- La clase Animal tendrá un método `make_sound()` que imprima el sonido del animal, que será un método abstracto, y que deberá ser implementado en las clases derivadas.\n",
    "\n",
    "Define las clases `Dog`, `Cat` y `Cow` que hereden de `Animal`.<br>\n",
    "En método `make_sound()` de cada clase indique 'Un {especie} hace {sonido}'\n",
    "\n",
    "Prueba tu código:\n",
    "1. Intenta instanciar un objeto de la clase `Animal`, debe dar error.\n",
    "2. Crea un objeto `Dog` y llama al método `make_sound()`.\n",
    "3. Crea un objeto `Cat` y llama al método `make_sound()`.\n",
    "4. Crea un objeto `Cow` y llama al método `make_sound()`."
   ]
  },
  {
   "cell_type": "code",
   "execution_count": null,
   "metadata": {},
   "outputs": [],
   "source": [
    "class Animal:\n",
    "    def __init__(self, especie, sonido):\n",
    "        self._especie = especie\n",
    "        self._sound = sonido\n",
    "    \n",
    "    @property\n",
    "    def make_sound(self):\n",
    "        return self._sound\n",
    "    \n",
    "    @make_sound.setter\n",
    "    def make_sound(self, sonido):\n",
    "        self._sound = sonido\n",
    "        return self._sound\n",
    "    \n",
    "class Dog(Animal):\n",
    "\n",
    "class Cat(Animal):\n",
    "\n",
    "class Cow(Animal):\n",
    "\n",
    "#EJERCICIO SIN TERMINAR A HASTA LA EXPLICACIÓN SOBRE CLASES ABTRACTA"
   ]
  },
  {
   "cell_type": "markdown",
   "metadata": {},
   "source": [
    "#### Ejercicio 6\n",
    "> Atributos de clase\n",
    "\n",
    "Crea una clase `Vehicle` que tenga:\n",
    "- Atributos de instancia: `model`, `year`, `num_wheels`, `num_doors`.\n",
    "- Atributo de clase: `category` con valor 'terrestre' como valor por defecto.\n",
    "  - Este atributo debe ser privado.\n",
    "  - Crea un método de clase `get_category()` que devuelva el valor del atributo de clase.\n",
    "    > Nota: el método de clase no puede acceder a los atributos de instancia."
   ]
  },
  {
   "cell_type": "code",
   "execution_count": 4,
   "metadata": {},
   "outputs": [
    {
     "name": "stdout",
     "output_type": "stream",
     "text": [
      "terrestre\n"
     ]
    }
   ],
   "source": [
    "class Vehicle:\n",
    "    \n",
    "    _category = 'terrestre'\n",
    "\n",
    "    def __init__(self, model, year, num_wheels, num_doors):\n",
    "        self._model = model\n",
    "        self._year = year\n",
    "        self._num_wheels = num_wheels\n",
    "        self._num_doors = num_doors\n",
    "    \n",
    "    def __str__(self):\n",
    "        return self._category\n",
    "    \n",
    "    def get_category(self):\n",
    "        print(self)\n",
    "\n",
    "ferrari = Vehicle('F40', 1990, 4, 3)\n",
    "ferrari.get_category()"
   ]
  },
  {
   "cell_type": "markdown",
   "metadata": {},
   "source": [
    "#### Ejercicio 7\n",
    "\n",
    "Crea una clase `Vehicle` que tenga:\n",
    "- Atributos de instancia: `model`, `year`, `num_wheels`, `num_doors`.\n",
    "- Atributo de clase: `category` con valor 'terrestre' como valor por defecto.\n",
    "  - Este atributo debe ser privado.\n",
    "  - Crea un método de clase `get_category()` que devuelva el valor del atributo de clase.<br>\n",
    "    **Utiliza un decorador para definir el método de clase.**\n",
    "\n",
    "Ejemplo de atributos de clase y de instancia, asi como de métodos de instancia y de clase.\n",
    "```python\t\n",
    "class MyClass:\n",
    "\n",
    "    _atributo_clase = 'valor'  # Atributo de clase privado\n",
    "\n",
    "    def __init__(self, name):\n",
    "        self.name = name   # Atributo de instancia\n",
    "\n",
    "    def get_name(self):  # getter method para acceder a propiedad name\n",
    "        return sefl.name\n",
    "\n",
    "    def info(self):   # método de instancia\n",
    "        return f'Name: {self.name}'\n",
    "\n",
    "    @staticmethod\n",
    "    def get_atributo_clase():  # método de clase. Se utiliza un decorador para definirlo.\n",
    "        return MyClass._atributo_clase\n",
    "\n",
    "\n",
    "# Instanciar un objeto de la clase MyClass\n",
    "q = MyClass('Pepe')\n",
    "print(q.get_name())  # Pepe\n",
    "print(q.info())  # Name: Pepe\n",
    "print(q.get_atributo_clase())  # valor\n",
    "```\n"
   ]
  },
  {
   "cell_type": "code",
   "execution_count": 5,
   "metadata": {},
   "outputs": [
    {
     "data": {
      "text/plain": [
       "'terrestre'"
      ]
     },
     "execution_count": 5,
     "metadata": {},
     "output_type": "execute_result"
    }
   ],
   "source": [
    "class Vehicle:\n",
    "    \n",
    "    _category = 'terrestre'\n",
    "\n",
    "    def __init__(self, model, year, num_wheels, num_doors):\n",
    "        self._model = model\n",
    "        self._year = year\n",
    "        self._num_wheels = num_wheels\n",
    "        self._num_doors = num_doors\n",
    "\n",
    "    @staticmethod\n",
    "    def get_category():\n",
    "        return Vehicle._category\n",
    "\n",
    "ferrari = Vehicle('F40', 1990, 4, 3)\n",
    "ferrari.get_category()"
   ]
  }
 ],
 "metadata": {
  "kernelspec": {
   "display_name": "base",
   "language": "python",
   "name": "python3"
  },
  "language_info": {
   "codemirror_mode": {
    "name": "ipython",
    "version": 3
   },
   "file_extension": ".py",
   "mimetype": "text/x-python",
   "name": "python",
   "nbconvert_exporter": "python",
   "pygments_lexer": "ipython3",
   "version": "3.11.5"
  }
 },
 "nbformat": 4,
 "nbformat_minor": 2
}
