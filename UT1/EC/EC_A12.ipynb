{
 "cells": [
  {
   "cell_type": "markdown",
   "metadata": {},
   "source": [
    "# UT1. Ejercicios A2. POO en Python: Clases y objetos\n",
    "\n",
    "Realizar los siguientes ejercicios en Python, cada uno en su propia celda.\n",
    "No es necesario crear 2 celdas para un ejercio, cada ejercicio se resuelve en una celda."
   ]
  },
  {
   "cell_type": "markdown",
   "metadata": {},
   "source": [
    "### Ejercicio 1\n",
    "\n",
    "Escribe una clase llamada Rectangulo que contenga:\n",
    "- Dos atributos: base y altura.\n",
    "- Un método que calcule el área del rectángulo (base * altura).\n",
    "- Un método que calcule el perímetro del rectángulo (2 * base + 2 * altura).\n",
    "\n",
    "Crea un objeto de la clase Rectangulo y comprueba que los métodos funcionan correctamente."
   ]
  },
  {
   "cell_type": "code",
   "execution_count": 3,
   "metadata": {},
   "outputs": [
    {
     "name": "stdout",
     "output_type": "stream",
     "text": [
      "851\n",
      "120\n"
     ]
    }
   ],
   "source": [
    "class Rectangulo:\n",
    "    def __init__(self, base, altura):\n",
    "        self.base = base\n",
    "        self.altura = altura\n",
    "\n",
    "    def Area(self):\n",
    "        return (self.base * self.altura)\n",
    "    \n",
    "    def Perimetro(self):\n",
    "        return (self.base * 2) + (self.altura * 2)\n",
    "    \n",
    "rectangulo1 = Rectangulo(23, 37)\n",
    "\n",
    "print(rectangulo1.Area())\n",
    "print(rectangulo1.Perimetro())"
   ]
  },
  {
   "cell_type": "markdown",
   "metadata": {},
   "source": [
    "### Ejercicio 2\n",
    "\n",
    "Escribe una clase llamada Persona que contenga:\n",
    "- Un atributo llamado nombre.\n",
    "- Un método que imprima por pantalla el mensaje \"Hola, me llamo {nombre}\".\n",
    "- Un método que imprima por pantalla el mensaje \"Adiós, me voy de vacaciones\"."
   ]
  },
  {
   "cell_type": "code",
   "execution_count": 4,
   "metadata": {},
   "outputs": [
    {
     "name": "stdout",
     "output_type": "stream",
     "text": [
      "Hola, me llamo Víctor.\n",
      "¡¡¡Me voy de vacaciones!!!\n"
     ]
    }
   ],
   "source": [
    "class Persona:\n",
    "    def __init__(self, nombre):\n",
    "        self.nombre = nombre\n",
    "    \n",
    "    def saludo(self):\n",
    "        print(f\"Hola, me llamo {self.nombre}.\")\n",
    "\n",
    "    def adios(self):\n",
    "        print(\"¡¡¡Me voy de vacaciones!!!\")\n",
    "\n",
    "victor = Persona(\"Víctor\")\n",
    "victor.saludo()\n",
    "victor.adios()"
   ]
  },
  {
   "cell_type": "markdown",
   "metadata": {},
   "source": [
    "### Ejercicio 3\n",
    "\n",
    "Dado la siguiente clase:\n",
    "\n",
    "```python\t\n",
    "class Vehicle:\n",
    "    def __init__(self, name, max_speed, mileage):\n",
    "        self.name = name\n",
    "        self.max_speed = max_speed\n",
    "        self.mileage = mileage\n",
    "```\n",
    "Crea una clase Bus que herede de la clase Vehicle y que contenga:\n",
    "- Un atributo llamado _capacidad_.\n",
    "- Un método _info_ que imprima por pantalla el mensaje \"Bus con capacidad para {_capacidad_} pasajeros\"."
   ]
  },
  {
   "cell_type": "code",
   "execution_count": 15,
   "metadata": {},
   "outputs": [
    {
     "name": "stdout",
     "output_type": "stream",
     "text": [
      "Bus con capacidad para  50 pasajeros\n",
      "Bus con capacidad para  60 pasajeros\n"
     ]
    }
   ],
   "source": [
    "class Vehicle:\n",
    "    def __init__(self, name, max_speed, mileage):\n",
    "        self.name = name\n",
    "        self.max_speed = max_speed\n",
    "        self.mileage = mileage\n",
    "\n",
    "class Bus(Vehicle):\n",
    "    def __init__(self, name, max_speed, mileage, capacidad):\n",
    "        super().__init__(name, max_speed, mileage)\n",
    "        self.capacidad = capacidad\n",
    "    \n",
    "    def info(self):\n",
    "        print(f\"Bus con capacidad para  {self.capacidad} pasajeros\")\n",
    "\n",
    "bus1 = Bus(\"Autobus Interprovincial\", 100, 26, 50)\n",
    "bus1.info()\n",
    "\n",
    "bus2 = Bus(\"Autobus Urbano\", 50, 36, 60)\n",
    "bus2.info()"
   ]
  },
  {
   "cell_type": "markdown",
   "metadata": {},
   "source": [
    "### Ejercicio 4\n",
    "\n",
    "Basado en el ejercicio anterior, agrega a la clase Bus un constructor que reciba como parámetros los atributos de la clase Vehicle y el atributo capacidad.<br>\n",
    "El atributo capacidad debe tener un valor por defecto de 50."
   ]
  },
  {
   "cell_type": "code",
   "execution_count": 16,
   "metadata": {},
   "outputs": [
    {
     "name": "stdout",
     "output_type": "stream",
     "text": [
      "Bus con capacidad para  50 pasajeros\n",
      "Bus con capacidad para  60 pasajeros\n"
     ]
    }
   ],
   "source": [
    "class Vehicle:\n",
    "    def __init__(self, name, max_speed, mileage):\n",
    "        self.name = name\n",
    "        self.max_speed = max_speed\n",
    "        self.mileage = mileage\n",
    "\n",
    "class Bus(Vehicle):\n",
    "    def __init__(self, name, max_speed, mileage, capacidad = 50):\n",
    "        super().__init__(name, max_speed, mileage)\n",
    "        self.capacidad = capacidad\n",
    "    \n",
    "    def info(self):\n",
    "        print(f\"Bus con capacidad para  {self.capacidad} pasajeros\")\n",
    "\n",
    "bus1 = Bus(\"Autobus Interprovincial\", 100, 26)\n",
    "bus1.info()\n",
    "\n",
    "bus2 = Bus(\"Autobus Urbano\", 50, 36, capacidad = 60)\n",
    "bus2.info()"
   ]
  },
  {
   "cell_type": "markdown",
   "metadata": {},
   "source": [
    "### Ejercicio 5\n",
    "\n",
    "Basado en el ejercicio 4, agrega un atributo de clase, a la clase _Vehicle_ llamado _colorBase_ con un valor por defecto de \"blanco\".<br>\n",
    "Crear un objeto de la clase Bus y comprobar que el atributo _colorBase_ es accesible desde el objeto.<br>\n",
    "Modifica el método _info_ para incluir el color base del vehículo."
   ]
  },
  {
   "cell_type": "code",
   "execution_count": 4,
   "metadata": {},
   "outputs": [
    {
     "name": "stdout",
     "output_type": "stream",
     "text": [
      "Bus con capacidad para  50 pasajeros y de color Blanco\n",
      "Bus con capacidad para  60 pasajeros y de color Blanco\n"
     ]
    }
   ],
   "source": [
    "class Vehicle:\n",
    "    def __init__(self, name, max_speed, mileage, colorBase = \"Blanco\"):\n",
    "        self.name = name\n",
    "        self.max_speed = max_speed\n",
    "        self.mileage = mileage\n",
    "        self.colorBase = colorBase\n",
    "\n",
    "class Bus(Vehicle):\n",
    "    def __init__(self, name, max_speed, mileage, colorBase = \"Blanco\", capacidad = 50):\n",
    "        Vehicle.__init__(self, name, max_speed, mileage, colorBase)\n",
    "        self.capacidad = capacidad\n",
    "    \n",
    "    def info(self):\n",
    "        print(f\"Bus con capacidad para  {self.capacidad} pasajeros y de color {self.colorBase}\")\n",
    "\n",
    "bus1 = Bus(\"Autobus Interprovincial\", 100, 26)\n",
    "bus1.info()\n",
    "\n",
    "bus2 = Bus(\"Autobus Urbano\", 50, 36, capacidad = 60)\n",
    "bus2.info()"
   ]
  },
  {
   "cell_type": "markdown",
   "metadata": {},
   "source": [
    "### Ejercicio 6\n",
    "\n",
    "Crea una clase _Animal_ con un atributo _name_ y un método _speak_ que imprima por pantalla el mensaje \"Yo soy {nombre}\".\n",
    "\n",
    "Además crea una clase _Dog_ que herede de la clase _Animal_ y que tenga un atributo _raza_ y un método _speak_ que imprima por pantalla el mensaje \"Yo soy {nombre} y soy un perro de raza {raza}, y ladro\".\n",
    "\n",
    "Crea un objeto de la clase _Dog_ y comprueba que el método _speak_ funciona correctamente."
   ]
  },
  {
   "cell_type": "code",
   "execution_count": 3,
   "metadata": {},
   "outputs": [
    {
     "name": "stdout",
     "output_type": "stream",
     "text": [
      "Yo soy Rufo y soy un perro de raza mastín, y ladro\n"
     ]
    }
   ],
   "source": [
    "class Animal:\n",
    "    def __init__(self, name):\n",
    "        self.name = name\n",
    "    \n",
    "    def nombre(self):\n",
    "        print(f\"Yo soy {self.nombre}\")\n",
    "\n",
    "class Dog(Animal):\n",
    "    def __init__(self, name, raza):\n",
    "        Animal.__init__(self, name)\n",
    "        self.raza = raza\n",
    "    \n",
    "    def speak(self):\n",
    "        print(f\"Yo soy {self.name} y soy un perro de raza {self.raza}, y ladro\")\n",
    "\n",
    "mastin = Dog(\"Rufo\", \"mastín\")\n",
    "mastin.speak()"
   ]
  },
  {
   "cell_type": "markdown",
   "metadata": {},
   "source": [
    "### Ejercicio 7\n",
    "\n",
    "Basado en el ejercicio anterior, en la el constructor  de la clase _Dog_ utiliza la función _super()_ para llamar al constructor de la clase _Animal_ y asignar el atributo _name_.\n",
    "\n",
    "Crea un objeto de la clase _Dog_ y comprueba que el método _speak_ funciona correctamente."
   ]
  },
  {
   "cell_type": "code",
   "execution_count": 48,
   "metadata": {},
   "outputs": [
    {
     "name": "stdout",
     "output_type": "stream",
     "text": [
      "Yo soy Rufo y soy un perro de raza mastín, y ladro\n"
     ]
    }
   ],
   "source": [
    "class Animal:\n",
    "    def __init__(self, name):\n",
    "        self.name = name\n",
    "    \n",
    "    def nombre(self):\n",
    "        print(f\"Yo soy {self.nombre}\")\n",
    "\n",
    "class Dog(Animal):\n",
    "    def __init__(self, name, raza):\n",
    "        super().__init__(name)\n",
    "        self.raza = raza\n",
    "    \n",
    "    def speak(self):\n",
    "        print(f\"Yo soy {self.name} y soy un perro de raza {self.raza}, y ladro\")\n",
    "\n",
    "mastin = Dog(\"Rufo\", \"mastín\")\n",
    "mastin.speak()"
   ]
  },
  {
   "cell_type": "markdown",
   "metadata": {},
   "source": [
    "### Ejercicio 8\n",
    "\n",
    "Crear una clase _Circle_ con un atributo _radius_, este atributo debe ser privado.<br>\n",
    "Crea una función getter y setter para el atributo _radius_, que permita obtener y asignar un valor al atributo.<br>\n",
    "Es necesario comprobar que el valor asignado al atributo es un número positivo, en caso contrario no asigna el valor.\n",
    "\n",
    "Crea un objeto de la clase _Circle_ y comprueba que el método _setter_ funciona correctamente, y que no permite asignar un valor negativo."
   ]
  },
  {
   "cell_type": "code",
   "execution_count": 54,
   "metadata": {},
   "outputs": [
    {
     "name": "stdout",
     "output_type": "stream",
     "text": [
      "None\n"
     ]
    }
   ],
   "source": [
    "class Circle:\n",
    "    def __init__(self, radius=0):\n",
    "        self._radius = radius\n",
    "\n",
    "    \n",
    "    def get_radio(self):\n",
    "        return self._radius\n",
    "    \n",
    "    \n",
    "    def set_radio(self, valor):\n",
    "        if valor >= 0:\n",
    "            self._radius = valor\n",
    "            return self._radius\n",
    "\n",
    "circulo = Circle()\n",
    "\n",
    "print(circulo.set_radio(-4))\n",
    "\n",
    "        \n"
   ]
  },
  {
   "cell_type": "markdown",
   "metadata": {},
   "source": [
    "### Ejercicio 9\n",
    "\n",
    "Basado en el ejercicio anterior, modifica la clase _Circle_, cambiando las funciones getter y setter par la propiedad _radius_ con la forma de _property_."
   ]
  },
  {
   "cell_type": "code",
   "execution_count": 33,
   "metadata": {},
   "outputs": [
    {
     "name": "stdout",
     "output_type": "stream",
     "text": [
      "0\n"
     ]
    }
   ],
   "source": [
    "class Circle:\n",
    "    def __init__(self, radius = 0):\n",
    "        self._radius = radius\n",
    "\n",
    "    @property\n",
    "    def radio(self):\n",
    "        return self._radius\n",
    "    \n",
    "    @radio.setter\n",
    "    def radio(self, valor):\n",
    "        if valor >= 0:\n",
    "            self._radius = valor\n",
    "\n",
    "circulo = Circle()\n",
    "circulo.radio = -2\n",
    "print(circulo.radio)"
   ]
  },
  {
   "cell_type": "markdown",
   "metadata": {},
   "source": [
    "### Ejercicio 10\n",
    "\n",
    "Crea una clase _Staff_ con un atributo _role_, _department_ y _salary_.<br>\n",
    "La clase _Staff_ debe tener un método _info_ que muestre la información del empleado.<br>\n",
    "\n",
    "Crea una clase _Teacher_ que herede de la clase _Staff_ y que tenga un atributo _name_ y _age_.<br>\n",
    "Para el constructor de la clase _Teacher_ utiliza la función _super()_ para llamar al constructor de la clase _Staff_ y asignar los atributos _role_, _department_ y _salary_.<br>\n",
    "Override el método _info_ para que muestre la información del profesor, incluyendo el nombre y la edad.\n",
    "Crea otro método _infoSuper_ que utilize la sintaxis de super para llamar al método _info_ de la clase padre.\n",
    "\n",
    "Crea un objeto de la clase _Teacher_ y comprueba que el método _info_ funciona correctamente.\n"
   ]
  },
  {
   "cell_type": "code",
   "execution_count": 57,
   "metadata": {},
   "outputs": [
    {
     "name": "stdout",
     "output_type": "stream",
     "text": [
      "Profesor Fisica 1300€ Paco 59\n"
     ]
    }
   ],
   "source": [
    "class Staff:\n",
    "    def __init__(self, role, department, salary):\n",
    "        self.role = role\n",
    "        self.department = department\n",
    "        self.salary = salary\n",
    "    \n",
    "    def info(self):\n",
    "        print(self.role, self.department, self.salary)\n",
    "\n",
    "class Teacher(Staff):\n",
    "    def __init__(self, role, department, salary, name, age):\n",
    "        super().__init__(role, department, salary)\n",
    "        self.name = name\n",
    "        self.age = age\n",
    "    \n",
    "    def info(self):\n",
    "        print(self.role, self.department, self.salary, self.name, self.age)\n",
    "    \n",
    "    def infoSuper(self):\n",
    "        super().info(self)\n",
    "\n",
    "profesor = Teacher(\"Profesor\", \"Fisica\", \"1300€\", \"Paco\", \"59\")\n",
    "profesor.info()"
   ]
  },
  {
   "cell_type": "markdown",
   "metadata": {},
   "source": [
    "#### Ejercicio 11\n",
    "\n",
    "Crea una clase `BanckAccount` con atributos balance y account_number, estos métodos deben ser privados.<br>\n",
    "Implementa métodos para obtener el número de cuenta, obtener el balance, depositar fondos y retirar fondos, utilizando getters y setters.\n",
    "\n",
    "Validaciones:\n",
    "- El número de cuenta debe ser de solo lectura.\n",
    "- El balance no puede ser negativo.\n",
    "- El método para retirar fondos no puede retirar más fondos de los que hay en la cuenta.\n",
    "- El método para retirar fondos debe devolver el dinero retirado, pero si no hay suficiente dinero en la cuenta debe devolver el dinero que hay en la cuenta.\n",
    "\n",
    "Crea un objeto de la clase `BanckAccount` y comprueba que los métodos funcionan correctamente, con cada uno de los casos de validación."
   ]
  },
  {
   "cell_type": "code",
   "execution_count": 3,
   "metadata": {},
   "outputs": [
    {
     "name": "stdout",
     "output_type": "stream",
     "text": [
      "Numero de cuenta 235624563\n",
      "Saldo 10000\n",
      "15000\n",
      "Saldo disponible en la cuenta 14605\n",
      "No puede retirar una catidad superior al total de la cuenta\n",
      "14605\n"
     ]
    },
    {
     "data": {
      "text/plain": [
       "'El ingreso debe ser mayor que cero'"
      ]
     },
     "execution_count": 3,
     "metadata": {},
     "output_type": "execute_result"
    }
   ],
   "source": [
    "class BanckAccount:\n",
    "    def __init__(self, balance = 0, account_number = \"00000000\"):\n",
    "        self._balance = balance\n",
    "        self._account_number = account_number\n",
    "        \n",
    "    def get_numeroCuenta(self):\n",
    "        return self._account_number\n",
    "\n",
    "    def get_balance(self):\n",
    "        return self._balance\n",
    "\n",
    "    # Metodos    \n",
    "    def Retirar(self, cantidad):\n",
    "        if cantidad > 0:\n",
    "            if cantidad <= self._balance:\n",
    "                self._balance -= cantidad\n",
    "                print(f\"Saldo disponible en la cuenta {self._balance}\")\n",
    "            else:\n",
    "                print(\"No puede retirar una catidad superior al total de la cuenta\")\n",
    "                print(self._balance)\n",
    "        else:\n",
    "            print(\"No puede retirar una cantidad menor de 0\")\n",
    "\n",
    "    def Ingresar(self, cantidad):\n",
    "        if cantidad > 0:\n",
    "            self._balance += cantidad\n",
    "            return f\"Saldo disponible en la cuenta {self._balance}\"\n",
    "        else:\n",
    "            return \"El ingreso debe ser mayor que cero\"\n",
    "\n",
    "cc = BanckAccount(10000, \"235624563\")\n",
    "\n",
    "print(f\"Numero de cuenta {cc.get_numeroCuenta()}\")\n",
    "print(f\"Saldo {cc.get_balance()}\")\n",
    "\n",
    "cc.Ingresar(5000)\n",
    "print(cc.get_balance())\n",
    "cc.Retirar(395)\n",
    "cc.Retirar(15555555)\n",
    "cc.Ingresar(-26)\n",
    "\n",
    "\n",
    "\n",
    "\n",
    "    \n"
   ]
  },
  {
   "cell_type": "markdown",
   "metadata": {},
   "source": [
    "#### Ejercicio 12\n",
    "\n",
    "Basado en el ejercicio anterior, cambia los getters y setters utilizando la sintaxis de property (decoradores).\n",
    "\n",
    "Comprueba que todo funciona correctamente, al igual que en el ejercicio anterior."
   ]
  },
  {
   "cell_type": "code",
   "execution_count": null,
   "metadata": {},
   "outputs": [],
   "source": [
    "class BanckAccount:\n",
    "    def __init__(self, balance = 0, account_number = \"00000000\"):\n",
    "        self._balance = balance\n",
    "        self._account_number = account_number\n",
    "        \n",
    "    @property\n",
    "    def numeroCuenta(self):\n",
    "        return self._account_number\n",
    "    \n",
    "    @property\n",
    "    def balance(self):\n",
    "        return self._balance\n",
    "\n",
    "    # Metodos    \n",
    "    def Retirar(self, cantidad):\n",
    "        if cantidad > 0:\n",
    "            if cantidad <= self._balance:\n",
    "                self._balance -= cantidad\n",
    "                print(f\"Saldo disponible en la cuenta {self._balance}\")\n",
    "            else:\n",
    "                print(\"No puede retirar una catidad superior al total de la cuenta\")\n",
    "                print(self._balance)\n",
    "        else:\n",
    "            print(\"No puede retirar una cantidad menor de 0\")\n",
    "\n",
    "    def Ingresar(self, cantidad):\n",
    "        if cantidad > 0:\n",
    "            self._balance += cantidad\n",
    "            return f\"Saldo disponible en la cuenta {self._balance}\"\n",
    "        else:\n",
    "            return \"El ingreso debe ser mayor que cero\"\n",
    "\n",
    "cc = BanckAccount(10000, \"235624563\")\n",
    "\n",
    "print(f\"Numero de cuenta {cc.numeroCuenta}\")\n",
    "print(f\"Saldo {cc.balance}\")\n",
    "\n",
    "cc.Ingresar(5000)\n",
    "print(cc.balance)\n",
    "cc.Retirar(395)\n",
    "cc.Retirar(15555555)\n",
    "cc.Ingresar(-26)"
   ]
  },
  {
   "cell_type": "markdown",
   "metadata": {},
   "source": [
    "#### Ejercicio 13\n",
    "\n",
    "Crea una clase `Person` que represente la información de una persona, incluyendo su nombre, edad y email.<br>\n",
    "Sin embargo para mantener la privacidad se necesita usar getters y setters para acceder y modificar estos atributos.<br>\n",
    "\n",
    "Reglas:\n",
    "- El nombre y el email no pueden ser modificados.\n",
    "- La edad debe ser un número positivo entre 0 y 120.\n",
    "\n",
    "Crea un objeto de la clase `Person` y comprueba que los métodos funcionan correctamente, con cada uno de los casos de validación."
   ]
  },
  {
   "cell_type": "code",
   "execution_count": 17,
   "metadata": {},
   "outputs": [
    {
     "name": "stdout",
     "output_type": "stream",
     "text": [
      "48\n",
      "Manuel Lopez 49 mlopez@gmail.com\n",
      "Edad debe ser mayor que Cero\n"
     ]
    }
   ],
   "source": [
    "class Person:\n",
    "    def __init__(self, nombre, edad, email):\n",
    "        self._nombre = nombre\n",
    "        self._edad = edad\n",
    "        self._email = email\n",
    "\n",
    "    def get_edad(self):\n",
    "        return self._edad\n",
    "    \n",
    "    def set_edad(self, valor):\n",
    "        if valor > 0:\n",
    "            self._edad = valor\n",
    "        else:\n",
    "            print(\"Edad debe ser mayor que Cero\")\n",
    "\n",
    "    def get_nombre(self):\n",
    "        return self._nombre\n",
    "    \n",
    "    def get_email(self):\n",
    "        return self._email\n",
    "    \n",
    "Manuel = Person(\"Manuel Lopez\", 48, \"mlopez@gmail.com\")\n",
    "\n",
    "print(Manuel.get_edad())\n",
    "Manuel.set_edad(49)\n",
    "print(Manuel.get_nombre(), Manuel.get_edad(), Manuel.get_email())\n",
    "Manuel.set_edad(-2)\n",
    "\n"
   ]
  }
 ],
 "metadata": {
  "kernelspec": {
   "display_name": "Python 3",
   "language": "python",
   "name": "python3"
  },
  "language_info": {
   "codemirror_mode": {
    "name": "ipython",
    "version": 3
   },
   "file_extension": ".py",
   "mimetype": "text/x-python",
   "name": "python",
   "nbconvert_exporter": "python",
   "pygments_lexer": "ipython3",
   "version": "3.11.5"
  }
 },
 "nbformat": 4,
 "nbformat_minor": 2
}
